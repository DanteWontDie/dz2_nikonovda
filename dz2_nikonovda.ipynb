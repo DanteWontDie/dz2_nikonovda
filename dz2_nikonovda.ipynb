{
 "cells": [
  {
   "cell_type": "markdown",
   "id": "219a8283-51c9-44be-98cf-e466ca19d498",
   "metadata": {},
   "source": [
    "Тема 2. Управляющие конструкции и коллекции, часть 1"
   ]
  },
  {
   "cell_type": "markdown",
   "id": "e39fdc7a-2451-45fb-8793-370f3b6b570b",
   "metadata": {},
   "source": [
    "Задание 1.\n",
    "Написать код на Python в среде Jupyter Notebook для решения следующей\n",
    "задачи.\n",
    "Дана переменная, в которой хранится слово из латинских букв. Напишите код,\n",
    "который выводит на экран:\n",
    "* среднюю букву, если число букв в слове нечётное;\n",
    "* две средних буквы, если число букв чётное.\n",
    "Пример работы программы:\n",
    "1. word = 'test' Результат: es\n",
    "2. word = 'testing' Результат: t"
   ]
  },
  {
   "cell_type": "code",
   "execution_count": 2,
   "id": "ed49ad1a-1af8-48b5-b6c2-f088086a92bd",
   "metadata": {
    "scrolled": true
   },
   "outputs": [
    {
     "name": "stdin",
     "output_type": "stream",
     "text": [
      "Введите слово Test\n"
     ]
    },
    {
     "name": "stdout",
     "output_type": "stream",
     "text": [
      "es\n"
     ]
    }
   ],
   "source": [
    "myword = input('Введите слово') #исходное слово (проверять корректность ввода не входит в ТЗ)\n",
    "lenth_word = len (str(myword)) #длина слова\n",
    "# проверка на четность исходного слова\n",
    "if lenth_word % 2 == 0:\n",
    "    #если четное кол-во букв, то в result отправляем 2 буквы\n",
    "    result = myword[((lenth_word//2)-1):(lenth_word//2)+1]\n",
    "else:\n",
    "    #если нечетное кол-во букв, то в result отправляем 1 букву\n",
    "    result = myword[lenth_word//2]\n",
    "print(result) #выводим результат"
   ]
  },
  {
   "cell_type": "markdown",
   "id": "c406c2db-5bd2-42eb-9f05-89ce00e0c457",
   "metadata": {},
   "source": [
    "Написать код на Python в среде Jupyter Notebook для решения следующей\n",
    "задачи.\n",
    "Вы делаете MVP (минимально жизнеспособный продукт) dating-сервиса.\n",
    "У вас есть список юношей и девушек.\n",
    "Выдвигаем гипотезу: лучшие рекомендации получатся, если просто\n",
    "отсортировать имена по алфавиту и познакомить людей с одинаковыми\n",
    "индексами после сортировки. Но вы не будете никого знакомить, если кто-то\n",
    "может остаться без пары.\n",
    "Примеры работы программы:\n",
    "boys = ['Peter', 'Alex', 'John', 'Arthur', 'Richard']\n",
    "girls = ['Kate', 'Liza', 'Kira', 'Emma', 'Trisha']\n",
    "Результат:\n",
    "Идеальные пары:\n",
    "Alex и Emma\n",
    "Arthur и Kate\n",
    "John и Kira\n",
    "Peter и Liza\n",
    "Richard и Trisha\n",
    "boys = ['Peter', 'Alex', 'John', 'Arthur', 'Richard', 'Michael']\n",
    "girls = ['Kate', 'Liza', 'Kira', 'Emma', 'Trisha']\n",
    "Результат: Внимание, кто-то может остаться без пары!"
   ]
  },
  {
   "cell_type": "code",
   "execution_count": 4,
   "id": "8110af04-0be4-4099-994b-1af597710b83",
   "metadata": {},
   "outputs": [
    {
     "name": "stdout",
     "output_type": "stream",
     "text": [
      "Внимание, кто-то может остаться без пары!\n"
     ]
    }
   ],
   "source": [
    "boys = ['Peter', 'Alex', 'John', 'Arthur', 'Richard', 'Michael'] # исходный массив (список) в парнями\n",
    "girls = ['Kate', 'Liza', 'Kira', 'Emma', 'Trisha'] # исходный массив (список) в девушками\n",
    "\n",
    "# если кол-во парней не равно кол-ву девушек, то выводим сообщение. Иначе - сотрируем списки и выводим на экран\n",
    "if len(boys) != len(girls):\n",
    "    print('Внимание, кто-то может остаться без пары!')\n",
    "else:\n",
    "    sorted_boys = sorted(boys)\n",
    "    sorted_girls = sorted(girls)\n",
    "    print('Идеальные пары:')\n",
    "    for boys, girls in zip(sorted_boys, sorted_girls):\n",
    "        print(f\"{boys} и {girls}\")"
   ]
  },
  {
   "cell_type": "code",
   "execution_count": null,
   "id": "e051e4f3-314b-4d0b-b289-65031175df22",
   "metadata": {},
   "outputs": [],
   "source": []
  }
 ],
 "metadata": {
  "kernelspec": {
   "display_name": "Python 3 (ipykernel)",
   "language": "python",
   "name": "python3"
  },
  "language_info": {
   "codemirror_mode": {
    "name": "ipython",
    "version": 3
   },
   "file_extension": ".py",
   "mimetype": "text/x-python",
   "name": "python",
   "nbconvert_exporter": "python",
   "pygments_lexer": "ipython3",
   "version": "3.12.3"
  }
 },
 "nbformat": 4,
 "nbformat_minor": 5
}
